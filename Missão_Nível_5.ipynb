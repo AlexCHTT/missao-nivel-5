{
  "nbformat": 4,
  "nbformat_minor": 0,
  "metadata": {
    "colab": {
      "provenance": [],
      "authorship_tag": "ABX9TyMBqjWxm3GDkdNxNiKs1G4T",
      "include_colab_link": true
    },
    "kernelspec": {
      "name": "python3",
      "display_name": "Python 3"
    },
    "language_info": {
      "name": "python"
    }
  },
  "cells": [
    {
      "cell_type": "markdown",
      "metadata": {
        "id": "view-in-github",
        "colab_type": "text"
      },
      "source": [
        "<a href=\"https://colab.research.google.com/github/AlexCHTT/missao-nivel-5/blob/main/Miss%C3%A3o_N%C3%ADvel_5.ipynb\" target=\"_parent\"><img src=\"https://colab.research.google.com/assets/colab-badge.svg\" alt=\"Open In Colab\"/></a>"
      ]
    },
    {
      "cell_type": "markdown",
      "source": [
        "![meta-image.png](data:image/png;base64,iVBORw0KGgoAAAANSUhEUgAAAQAAAAEACAIAAADTED8xAAAAGXRFWHRTb2Z0d2FyZQBBZG9iZSBJbWFnZVJlYWR5ccllPAAAAyhpVFh0WE1MOmNvbS5hZG9iZS54bXAAAAAAADw/eHBhY2tldCBiZWdpbj0i77u/IiBpZD0iVzVNME1wQ2VoaUh6cmVTek5UY3prYzlkIj8+IDx4OnhtcG1ldGEgeG1sbnM6eD0iYWRvYmU6bnM6bWV0YS8iIHg6eG1wdGs9IkFkb2JlIFhNUCBDb3JlIDUuNi1jMTQ1IDc5LjE2MzQ5OSwgMjAxOC8wOC8xMy0xNjo0MDoyMiAgICAgICAgIj4gPHJkZjpSREYgeG1sbnM6cmRmPSJodHRwOi8vd3d3LnczLm9yZy8xOTk5LzAyLzIyLXJkZi1zeW50YXgtbnMjIj4gPHJkZjpEZXNjcmlwdGlvbiByZGY6YWJvdXQ9IiIgeG1sbnM6eG1wPSJodHRwOi8vbnMuYWRvYmUuY29tL3hhcC8xLjAvIiB4bWxuczp4bXBNTT0iaHR0cDovL25zLmFkb2JlLmNvbS94YXAvMS4wL21tLyIgeG1sbnM6c3RSZWY9Imh0dHA6Ly9ucy5hZG9iZS5jb20veGFwLzEuMC9zVHlwZS9SZXNvdXJjZVJlZiMiIHhtcDpDcmVhdG9yVG9vbD0iQWRvYmUgUGhvdG9zaG9wIENDIDIwMTkgKE1hY2ludG9zaCkiIHhtcE1NOkluc3RhbmNlSUQ9InhtcC5paWQ6MUJFOThGNkZEMjMyMTFFOThGMDE5MTI3QzNERDM3MEQiIHhtcE1NOkRvY3VtZW50SUQ9InhtcC5kaWQ6MUJFOThGNzBEMjMyMTFFOThGMDE5MTI3QzNERDM3MEQiPiA8eG1wTU06RGVyaXZlZEZyb20gc3RSZWY6aW5zdGFuY2VJRD0ieG1wLmlpZDoxQkU5OEY2REQyMzIxMUU5OEYwMTkxMjdDM0REMzcwRCIgc3RSZWY6ZG9jdW1lbnRJRD0ieG1wLmRpZDoxQkU5OEY2RUQyMzIxMUU5OEYwMTkxMjdDM0REMzcwRCIvPiA8L3JkZjpEZXNjcmlwdGlvbj4gPC9yZGY6UkRGPiA8L3g6eG1wbWV0YT4gPD94cGFja2V0IGVuZD0iciI/PqsDsYQAADWoSURBVHja7H0JfBzFlX5XdfccuizLku8TMBjLF7bBxpaNcQiE3RzL5iY/dn/ZJCRAiM0R/A8JOTbsbi5CNhCS3bBsDtYhAUIgQBIwSTiMg/GFbXxKlnUYG2zL1jkzfVT9X1X3zPQc3RqdlqX3xRHSTE9PT8/76n3v1atXhHOuIBAjFRRvAQIJgEAgARAIJAACgQRAIJAACAQSAIFAAiAQSAAEAgmAQCABEAgkAAKBBEAgkAAIBBIAgUACIBBIAAQCCYBAIAEQCCQAAoEEQCCQAAgEEgCBQAIgEEgABAIJgEAgARAIJAACgQRAIJAACAQSAIFAAiAQSAAEAgmAQCABEAgkAAKBBEAgkAAIBBIAgUACIBBIAAQCCYBAIAEQCCTA0ATnisIULv8nfkgo7h94e84EiPwGEINi/nC7s3/zPKfkPIgYeGh4CwZvsFGULjN2PHaqg8WOd3Z0JKwx0eLzyyePiZYIChC0fyTAsB78G9qaa1uaOpROnZC3O7reOPmOSpVKWnbZ9PnLJp5P8jkGBBJgONg+jO6N7U17W2otyjWqaoyWqsVRTVdV0mp1PVm7kSv28okXOtbPIDJDKiABhgkY4VQ50FJX11oPtk8VKiNhJaSFHHKomspV+lT95pgRXz19AZg+ISiGBg+YBRrwG9zQ8dah1gauEaqQZLSrhDWNJB0EpwSosaFx+8vNu6X5K5gSQg9w9isfMfbzutMNda0NTAMiqIqra0S4G9bC8JNLtSOsnRIS0jY07gD9c/nkuR7xhFoIPcBZCQK3tr61eX9LnU1t6t5n7g75RImqYfEf0ENJ+6aE2oT/qW7L841vuEQRAgrvJBLg7Bz/61sba08dVnTqUfSuBAItFNVCGiHeSFmM9ZTysPbXpp2vvrWXgTLiOPojAc5C2wccOtW45+RBQ7UoT4/9SQ6I/0f1kErVjCfkbyolTOW/q930fP02hXiCBgQSYMhbPncy+U3tR2pbD3NdRr0kNcfLnV/hIEJoRCtSYbz3jvHEVUPwLA3rLzbt2vz2AZcxSAIkwFmg+jkByX7gZO3uE/tslamg6j2jftrAOTyhhYUEoinTJkkfQGRQoMIDOv1t7WvPHd7u1A0xJAESYOjHvY3tR+paGyw9f+4mZcIqUcKqFgIJxJJVcd6zKIpNREysaMqGxu2b3tornAJHP4AEGKLSx9E+HELe/Sdrma5oXPOZynLLPjVFC6m6TnQmpn1J7qEaEykiCBFoSPvD4a1/bXgD/hT/kANIgKEX8wprr29r3ne61lZTGc/ccV/Ke2H/RCWaTvWwqks757kcYG4aFI6kpsqfbdj6l6bdxIkkuCANAgkwdJQ/b2g/cvBUPdHU5MDP/TkgTZgQGN1BBXGfZQAkFTiLqUoRE/+5aefmYwecilFMDSEBhhDqTje8eWKfRRh1jZMoGTTItlhh06pIgIIHIP5xguLlgAiv7ScObHy+foubWEIGIAHOsPKRJtjccbT2dJOtEUJ4htBPj+NK5u/wCwtRUYES1nTO00bP84QLLiwq5shYWP1z867Xju0THEAvgAQ4g2BS9x9oqd9xYj+jtuZmPL1DvtekeZZJ60QQICILQkmm4PEyJkUaVdJN55Tq6pN1m5+r3+Lwj2FUjAQ4U3etofNIXVsDpTwZwObavV/IrGgiBFBCmk7yxAB5bNp5FcTX4Ai4Sl5o2LmpeY+oNuIKQQb0DVgN2vPhn7O604cPnjpkqVxlKqcilalwKpexOFTgJFvVp0URmKwuiyAikgAkbeHudJgfc1xzB8JFtD82bgc+1EycrXhoh4VDSIDBgGkahmVMLB1vcW4xmzMbftqc29wGbjDRZQB+MiABk1qJO9Ndcp0LEccQoorbDpGAxRk8QmReiDgLYbj4j1BLckrYUfsp03aIBYrLpPypg5uYZV82dZ7jNhgRE8vIASTAgCOkh6urZqViYSZ7m9jwi6CBIANYv8UtC8yTMfhpSoZYjJncAMrAQUVqFF5bGimZHK20VMEWOMaGYySFbPeUXKirZLWEQxAuK0mF2xDVFKENzbtK9KJFE85zVBlafy+AbVH6nA7y5nkKESKu7heDv8kYExRipi1IYjDTtCz4F7fMuGLGLXA18HsibhudlpGwTMM2Yzb8aSZsy1aBdkAv+6op86+YsRC/CfQAA2vjpJu8I/cI+EASEHcuDOLnCKXOK20qXITF9YQGJm2HbDPCpOmbpq5quq2pVOsgcZBACcUUdaWy+IKCH9DUF47sHFNUdtG48/CbQg9whsJiJykJUQAXAkj+tCzxEwZ12xSyR8gbmxsgdIAA55XPCGuhFiP2TO2mDjMOGsjktslMOM4Qh8nAgsszyaSQDA/cIIK4aihdPWErTDOVd02ed/n0BbLYWkbM+K2gB+innA8MyYbBmSFGaFD18A8kuwHi3hB/WMLWmRTxiunavYh+RTRsExmdKm77Q4UIk46S6LTR08Miu88bTx1vIV2UiGkE6hi5Y+iyFpRKdyFTpb5ds0RfCUItjf2hcVtppGjx+PPdzBIGBEiAfkGXldhxdFcnj4MRMsXp5ekO+U5OhsDD7nDMXcsTFqwmiyIISWsozSYsRNWwPF5TtUhI02yqAQEcftCMvL5T8iCTQcllNTyPnoJjgAMkpP3+0GtdlrFiUjXBxfRIgP4CCJh23mVRT5qFEJXTLCPMCoUz7Y96jJWrqipr4URFUISGFEvEAzy5IoZ78vqcJAd+nn/sT70FxNOqQg3Cnjz0mkbIsknVPLWUDLkQCNSK3cASikaYFxX1DvIfV/JVLRAlPyd4VpisEo06BCCqpuqMK3lfSJSM9ZRZ88w8808qvJMCbkAL6X84vH3rsYM07ZIQSIA+EcBi7vDMMy0+2759SoCUZBWQa7o6VZ2bLiqidd1dUOOfMQp4hGfXnRJdoZbKHz248U+Htyd9DpIACdAXAliWR4bwfAXLWYN9Fg3SbHFMUZW10A7Cmi6WvXgKnD2k4TmahyeP4STHXaS/UXBSGn3xyJtbj9UqGA0jAQqGMDnGWdwyvLZnc5PzlJAm+QyK5/MAJDc2IDKGDimh1KPFNMSTA3mOTZOcsT/VIILk9RVwkaJgjvMSLVocCj9+8JXnG7bh94oEKBByZWNrc3P7214DsxjzCUG9apzn8wlZVdCukTvtgByENE3Jv8Irvy4i+d4g/RrhSkQdRUTVi/WopSp/atqx+eh+/GqRAAXh0OmGPS0HDcXIyAIxmxO/MTdYYZB8rgCi6fQ9D+khkhzSedbq4Zwz85xKC5InLyRytSVaJKqF4W10TX2qfvOfm94Az+aXTUICjGiwpFk0tTXtOVVnazbnVkYMIP7kPJ2D5/nC3O7EVbIfhOiJ5bnnURpS0tMEJEvr58QWvDsXJhOpHEKLUIkatglXCQE/8Ez9lo1H9iheX4NMQAK4nz+5d8u+E7VEFQl+S7EzPYCVY3pZq7i6TbR7fQVRHQ8gzxjRQtStDeJeKUbyB9rEL82URRc4bSQUUpwOFJyEdf25w9s3JbUQw8wQEsBrXIfbmt48edDQOJUFNqadQQCIATzTvN5I1xv78sDhP23DwDfZEM49W0QIFZI35PX4Ds7zxdoB8gv0T5EeTr+zSk1NefLgq883bJddq3EdGRIgicNtx/adOMQ00cnQMTSxlkVJyR1uMct/UFdyXEHu0EwyglRZ0O8Ngikh3aia5MBfyKgtK+F4RNejIsHKPc0YCdHVvzTvfO3Y/kLPhQQYrkjN5B461bT35F5p/apTwwPWKQo3pUxwyMBsi7hr3kneQT1TF/Gc6anMdxYRgFwLL58Ma7pKKO/+grOmk30djROrhCkQIMyJu0jTKY+D4Jup5He1f3uhfrvS7emQAMNZ9SR1/4FTh7masSkRGI2zpMuVyxwYwHJEOcnX8UHJyfmQjAg4RQHiyQJRTSSFuK/F8xyyke4YInkVEk2HiDN5ne5ADe/FNfJc8xuvv7WvIPmGBBiuur++Fcb+Wls3SVYJDxBA2HyKAMxOmni+mh3uY5ZcyR80i5k2laYLFEKqJj0A59myKVnJFljanAoPPBQVTdhBWUXUkLBtqng25xZPwdtRnT5Zv/mVI7v9Z9WQAMNT+fCk7m8WO5bqtpppysTJdsqF7WkPIAv6fURHbp/C3GoI4pFdIgeqKemJMJWoGlF5zmQB999MPvVBeDIvxLPIQEhUDYsdWDOvLRVnix5bKn/y0Oa/Hd2XEWuPSAKMpHJo7o79+08e4jpXuZozUIuwUch+zhzzE8taiBNYejvY5s5HFZQJ5c7mF1RL0QLGYzExbHO/ENsn7s7qFJHcWEOWQoDEEtMLVAa+3E8BqiCRnq3bAq9dMmFW91MM6AGGg/Ah5FBr056TB2DspwrNFb+OKVmKbXI3E2oDBeBfRscFns/iiU9knDPegOUl1wErciMMjdIsdcX9w1+ex6d5wgOn2E6hoKx0Wb+d8hS59g3cM3T+29pNf27YoWT3MkICDEc0tDYdOFmvgDgQIiTbgl2NIpr5KGkCyBWNmRZE8oW/wbmZDLNTPWGHqhCap+jN14mQ7AkIkju6q6KBoqaDqxFr1fy7bcmMFMQgLzTvlPVCIzQUGAEEkPbS0Na0t+Ug02R/wXwCmzh1yYrow2wz032Uy5Qod1aj8/x6JDv5E5B94lQiLYlADwlFxP3DZ5LlBwI6MMqyDqZTKvbfI4RmrtTJK7PgYzEK8cBrLzXuUjzBCkcCDKecz6G2I3tO1tlaKuPprdPk2WTh6ckvGwSR8AEkZxFM3hiV++j2dPgqkjCeNChcj9hCmyv5/Eue+NXPUSR7QcgeukQNUY2IhfaOr+E83/GubiOiOpUT8kzDtr/JWomgeWkkwNmIw22NB08c4GIZL8k3fpPcgdVmSQmUXQudNc+V1feTdOOGRAxAvZpHFfZKCU+JMCXY6AMdhTB3phCd6pqiqkQVcQ5nSv6y6lRdh9jYj4C/0OnTta9tbN490uYFhjkB6tua95ysNUKM+tbwZPxzhsyUBxBlEdw7KpNkP2aSnGDNMkju0SNip/d0JY/MqFJKSebUQ0jsEyP7wyk8NSHAM+nF3Wq59BV6HYVnp2HxcEjTNdD2VAOy8WQ1hN+WGs7MMWUiZWSFlCfqN7/21v6goGbYYVimQbmj808n2g6ePMzAxzPK86odhZDsDRrFDo1mMgawRTTMU83cPCcQnoGl5shSE0rcOSV35A1Pto0GoQHWCRcRIWEl1eZHvl2RqgM9ieyQmMw7cYc6TmLHrctwemOluuUKUKesLdVRQh7LQmpINhaCcFtV4MxiMoyn3Av3rCtLpXadB1UYDTX9ufqtk8sqJxVXIgHObgrAd15/uilBDCoMj3mVj2yhIP7jCgBhPYzLLXrlHqU8niwIjVmmwZju2onsWMWFhKc0LKa0KFXhB9E0EcuqqvwnJncVCjpEJnxECxRhqVKQgFEKdZ7Z5OqqcxavmDJXtpETjbdM0UOXGcw0uGVYpmmZMUs2A7XgnxVnVsIyTNt0e+6KRl2iGbUlaANnZaZtOTPNEFponMIxjLhBRrKZXOqHO1Emuli7N0GBD9PKEn9peOPa6tV0ZAQCw5IAsqKBWZ12u6oyuUqWiRkunhr7BAEoFwOzQkWtm6qEiTRQ2WGKRGnEYVG5Pur88nPDmq5LRQHmK+ZuVVVTdOCVaGglJQ1RCOmRf/KgJFQE/wp8HZNdKmR7Osuw7Rgz40AMZsRNYIXVaSbajdjE4gph1iqdUVKpdxJTsS0b2CLb2oke7lzE9eAakn7KoYFsRC0+haqRhvZ3WuOdoyMlSICzGAnbPhbXuDqqVAtHVDWiaRFhxxR+F4lCUYOgCLOmIWc61rVlIVdE6aTjI8YWj4Z/Bbgb7ijwfKt1eSrr6vYszM7C+u0Ik30IkTtsg8+RgVso6IIY1wj54IU1wjmINqPcEg2oLfiXsE0DfjJJGxscji0ci2V1mWanIXpQtybaO+JGWyKOBDh7IazXUOiG5uIOAywezJ2AmYdUK0RpVFciqlKk0bBGI7pSosaLNLVYU8OqGtbhYPmsqpWFdSLGS1VsghRQjebJqRBPUiipKTxiP1XfSZIbvXhPkazjyclY5n8gyPjdvbf56YTRYYJcssFLdIGJg6+A3w2r00rA73HTjplWzJCt2C0gA0uI0m8rJlr1Mrt6pCRChyUBhOopoWpUU99OqAmnnyeElglnsznDLRKWSRc5yyX3ZBd6yC3VvKBYuWPprAhV1+85vK/NBDIAQyI6KdLVqKrBaUtCwB+tCEhFxMyyToguG9pCWAruBXwLSC/VdSZeXSauQ3QSJTS7/QnJ5RaTdamK7CzNTCY3E4ABmzH4AKbF46YZhzHbSHTZdmfciBlmp2mejnWuPmf6ynPOhTM+8caOPx2qA/oLwSRVoJ1MNLndHUWHdiL9nvyv3JwmoWgTQ2pFSTES4KwOgW0IRudXhOvaO0NaSBHynzsTUNyVIFTJbLwpk0TMVKhp83cMMQhCnHug3dpymoVoQtJELqYVkbJMZkqeic4L4i+R5dEkkUKU6MKNkAh4GOFbSFSjRboW0YE5bFo0fN7oUd5+nbUnTzadbu2yGSiQLrBmMGsTBIkhRmUDhm87wW2xQIFTiNNtuReT5eRNgSGMJcuBXAHWZVrzJk1w74IW6rJoOCR7MSpE1B057fAzZ+eSkozLUkDK4l3LZp5XHokgAc7iIFjUvXN+1bRx244dbLJ4RPzFefayFp6uuOeOHQhaqGIfL7AtYe+2BaKIhVSnGo4qPFldllxDYyuylJM7rkRWlIG1mnLGQAy4TkcJ7kwZmJZRM65o3eJR3gH/iV17/3r4sK7pyV7TcjTmTsqGJtulu/qKO9txiyagYg43JCuraXpzGkY4K9K0ZHgd0kSXau4uBfB0Wc+obXUfgo+rxS17emn0ylnVI2fPveEZBAtj4mxCUXjt4vN+sK2xyRBrRAjjil9LQY8MAXtLcIihFZMrMdsm3nKGjB3rkuO4m1JM7UtBPSclmVelGszbrFn8anCmhfWw2DOYe3eY4fl70FG37pSnL4V7XkdEKai73qA4pLszXTkfk2Q09GIyWFEhGq7U1S+sWDGuKCL9xIhgAB2mn0oMkzAon1MavX5uVQVjCYsX+IWKoZqLqQAQG3Gx+SIJOjR7E1T/xfFCXyhxIcddleZMoIHMSf7t/U/qRZkVS6kKIeJml7LGcrEJsdt7V4lqGiPM6evobTmUr8EWjTOrQrfXrFg2c0yF3NxypATBw7QUQnzrYvkV2NicitFfWDR5km6aYnl7Uvr41y8DdSxn1zqbGyw9d9ANaRS/cd9jnJwnbLGXTOoRUXrNnA1OU9WZmV6K+FAusxIjeaT4v57sPFcUCqWySjy5cUdmcpXL3WtozOaVmnrrylXzxo2FO0ZFulVBApzVUUDaoOBrnl9ZetOCqaMVK26DvLZIwHJD+UIIABIWcIBbcksvv4Xo3ScoM58F+RI3iZFccCynbrnlVmEripLBNe7pXpFh+R49k1na4aZ3wsneo8V6SFV0P/6KmIWLQomEbZeH+NoVNXPGjlUUTsjIWhgw3KtBhZal8G3PLi+6acH0Ss2KMyUjGs6yY7c1kBKzLEPUGuRYZXeeJ/gYkcFML4CU87KiWMF/EQzJv6TLZ80kF2kozSVAWFN1mmflshM4yOootYuxMTq9bUXN3LFVYtpj5C2LGeYEkLbOmbADdlFVyZ2LpoxRTdPivqYkx2IQJUCAmNizkROF+C54zG3h2Z39GDZEI3byfcQErSSAJ7bmOWvsc3cg8Oh4r/4HH6ATEtF054GIroVoqnw1K2AR75lgRqVu37oSrH+syKwSdQSuCqMj5EM6e67PKCu6ad7UUcQyYOzNzYDxVOSpGBZPiIkokqcJtLf+P3eVWEDMTIhli9KD5DkgRLFNzjJmikmG7FHybR3gzVklm+46qkasNwir7ufSNU1TNZ7s/5sUVG5RVMJWKnRyy4pV1VVVcqDwdG1HAgynWCBlP9K/swWVJV9cPLlKM0wrkZGQzMzYgPV3gbWS7hpHFbAvvPdYSxYppZ4QEojxXPv2tlLJ4AXJsySSKCndzsOaFtZdAkQ0LaSqmaXaYndthWhx2x6tky+uXDlHKJ8RvYveyFkULyaJOBctGGaPLr157pRyasY5Jz7ZmwTnnRbEAJm9EgoJfLl/dEGIrdCEZ5EZkMFKxsT5N5Yh+XfFIzliSS5ZYKIuI0mAMAVvoHIn05Os+4QfMWZVqHxtzfILqyqZYipkRHfGGjkEcLZY585YOqey7LaFUydRIyFjUJ7ZQYeLuTAet+xeO5387y9W24AKSttwXNSqMW//nqx5hbw9WHjWxIPn0jWV6Ekto4saWDW5t4HzIqCfVaUpt65cITOe8Nl1gq0RRwoBkntYSxuyqivKbpw/pZIYcSb9QoZYITBOdxh2nqag3emctIXmRMyOKZvMzdgoYhdusH+b+IQPnGdErjzH/FMblyVXppGIrqRmglVCi3TZd1FunUQ4jdusXFXW1tTMGTdenp3invIjszcofPmgDXh1RckXFkwbp9smsyhXvYN1wiYQA7jimvsbfUCjaCVnBXKSWqkD46azBVmGEPNWRPC8b0oymrK7Xk3OLEc1XXO7ToilkCEtxMV6LzB/0P2sUiO3rATrF7NdCiHYI10ZsfsD0KTsmVNZ8v8WTR2j2QkrQ1HHmdJuWYTwjISLEpjz4d2m68XCtARPJ/ZjJgginjHM86wAN7PftGftmXdqjCejBWdrsJQsiobCXATZNGEbY3TrlhU188aNE7ofNwgY4QSQA6Ro+wnmMb2k6AvzJo/WEoYt26U59XAiX2lnGDfxUTvBGolkiiDCQfSkHo8ZRrrtBPftBJ0OCbhvsO0smIzoujeTFA2JgDhu8XKdrFmxsnpclYgDxGwBWv6IJgBx5wZEMYAora8eU3rHoqkTNMOwTCLXicSY1WlyqtDs3oLE3+KJjx9IW6to1JOUQOLoDstgnkxn7i4DPLd/bwDFOC8Ka173UKyHDdMqD/FbalbMHTfeXQuA1o8eIDUki0iQiaK0C8pLbpo/uYoaXbZolNNlK50mydtD1zfw7dYPiN4TNM7SD3cZZt4tBlKb5pHMAuaMzA/P9kmUQQwQ8rJQVWlFiHxxZc38ceO4Yis48iMB8pilWEci5wcqStYunDZRE61QukzSaXHS7S7AuX/6+wFn4VbMDTaYI4G8NZrplfP5dgxQMoMBb3F/cqqPF4V093A51k8pjtyyckV11VgZCuOe0EiAvGacbGwCVjK7ovTz8yeNJYlTMdZhevoV5iru4I0hSb4GivKNYp5ou8NIKN6if54UOSQjGs4qESUeR5HxDlRUgKZCABA8y6bPWDx5suJWguD4jwTIRwHPDtUaDJTVFWU3LzyniMVP2wk1lWYn+eyb+/c0UTLlPE8P8k4tkPN3zLScFQAkNwIm+Rs1Z2zElxmeUIVEXQ+guLxGm0cCFB4QUCc3pLAFY0ALTaggomKMKLybjv1Kd4kgr3InJG7K7JJsT9dlJrJ6qii5ec/Ms+aWdqZmi1VCXA/ACYa6SIDeBARypaHYWGV2RfnnF04ZQxMJm2UIjrzaXMnUKL6+Rrw4ZooSIzgJ0CBhWo6cTyut1Jx0soGQZ6dT9zTwO0uJfxHIyw4XXDSriGgafpNIgD4HBUI/8wUVpWsXzqgkdoIBJ3xSKKQAn+ABDNJxpliiIJSbth03mfQ7LJnHd5sHcTlNJyuZU08xxbOZJEm2m7ZFKxdmctuwReugqE6V9NJfRPfAASO/HBKjNWPVo4vBD9y3tf64Eg2LyhmWrfID6kOzDiNu7xUxxcZZsai2sOMQD7gdS2TJjuLsTyn36pPF27JTtNs4nbhhtDhOIzDUi453mqrpmhpSqU7VijAti4TdnW4QSIA+OkZGKeH2vIqimxdN/c9tR1tsUV2sZIUEJMO+XRWTGqqlPTv/d/pO2Zx12GbcErWahpkwEnFVUTWVOt2rwIxDThdeAiYu+hHp4iktqoeiul6sh4t0rSiiR0LwT4tqepGmg+bRVVH3r4szqLLsLbVwAFGAx+ccfWWQK3Dcwa6W9ge2Nryt6CE15LS7cvpkCRkittEQ+586Sy9FX0Sx34roHx2iJKzSsKZGRX84UqzpYVUbFbZWTRo7KqwmTFZ78qQWCkU10TdOtOylYq8WSmSrXiVjT/kCL5enVRwCCdAfDGCK01+f7mxpv39H4zssFKViXYvK7HKQHGFtdFgvD/NROi0PqcUhtQQGaU0rAaPX1SJBALBiNddQudKTckyOFo0EOHNOQO6UaoMd7z/dce/WeuBASDRX584uvyHKNapowszFUpQQEU5AEz+F9YeoaENdJPqEEkEJXS2m6vmVRaN0rcu22+JGVBO7moo9B3q8Kpenu9UhkAADqIIId/prEqmFfrSt6W0OHEi2V3Dj1tRmXskxXmb9ueNF3KUtNpxEt+NfvuScBVXlm5vf+snLL4ej0YiqhVU9DAJJp6DsoyGtJCzEfVFId6R/VBebG4RBJqlUiiVNrHWU4bNGKRIAg+ABHSKUVE9QcAZzK0pvWjj1vm0Nx+1IVLVsRSW5ndy4p2FoMqSWFACr1SzTrYboNI1TFiOGSGMqSszp1e4yR4bSzhS0JkpWIT6mwkuoalQVu6DCc5PLiq5bsHBcaQnH+V4kwKDwQPZIYcCB4jWLpv1ge+MJRsNEFS2iu9nGN+kphEsQiaEOWQ0RM00wbF3GCH57X3O3bbVoICemz0y7zaBxq2N8RL96yZJxZSWM41ROn4B3r3AtRN1ugoqYH1i7cFKVWN+Y00c2YGaAOAM76ZKdUcADMM+LOM83q+bOT4ttLBw/YClWVYTeXLOkuqqCcRsHfyTAYNm/uw2FrJXgpLp81JqFkycoCcO2iTNvqySXevludESdFrmdpiBAh5Hg3oaf3sUuPL0vWHKrJbEhQMKyp0ToXasvXzB+guhqq2gEZ3yRAIMXC6SXksHv4AeKbrpkymjVjNtSqQTfTLc6wemG4iwGsDwNET2U4Z4sD3dL+0UXW9OOUn5jTc25FRXudh8Ev0EkwJlxBnJ6gPHqUaVfmD9lnBb31Mz5yHm37FksQeuS68BiRkJJNkbPiAFIcvF7sjSPcDVmmxOj2rrLVsyurBTKB+cFkABn0Bk4iU+xDTtX5o8pW3PRtLHUTNhJ1eIzb+VsasGJ6niAhGW6EW7mEhriaQ/hPBC3zXFh9fZVK+ePHy8rKlS0fyTAmZVDNLnISmQtLxxd+rn5UysJRLWW03Ilb59D50FgTVx2JokZTDZvJvkaoMsdPqTMidvWuIh2w7JlM0aXO0xRUfYjAYZGUEDchfVc9Ny9bfG0cSozbCtV5MBz2zrI2bSYxbpk25Vks6yMkybn1wQD4pYysUi/Y/WqBePH86zuuAgkwBAIB8QmK5yAUGezyos+N39CMbfiNk3vg53bW5EQg9sxyxLNp6mSuweAo7Go3LermBqfuWTpuaPKGbfR7pEAQ9QNEGeODOKBitG3L548kSbAusW6Mp6cGM5oki62Hus0jATopRQDlNS2FzDui20JwPonhSNfedfqiyaMk8s1VQUznkiAIXwbKXf2I6sovmnRlHJidzFKnDo6T1sfZ6tewyaSAKZYzZiRNKLEOcDiYcpurrn0wsoqpygitZEYAgkwZJ0BIzJBWl1esnbBlPFaV5wzmt0cV26TwfnpWMK2RZFPxvp3sYOBFuNsUlT/0ooVF1aOkR3M0e6RAGdJQKAQxqkqe+4Wf37RlErVjrHMBqNS8AMBWuNON17iSRaJv+PMHKXyW1eumD9hvFM8hLcVCXC2mL+atGZhunPKRt08b/JYohiWRXhyx3Y5w8W40mqYnKd27nLWS5I4s8eH9JsvXXZuRbns40lx+EcCnE3xcOp+cpkbnTem5AsXTxmn8QSDB9KuAP5qjZvOQnfZHBeEkpaw7LEResflqxZPmiSeIWj8SICzlgtik3qxSlipHhX53EWTRomm0DS55bCo4Ww3LGf2VxWteMXORaWUfWbxxeeOHiUynmj7SICzWQs56yiZ5ACZP7rstosnTVQThuXm8mF4b40ZzuZkYk9iZkwM06+svvziyVNkdxSsdEACnOVaKN2MVmghPmd0yQ2LpperVpcpyoAYsTtssR03CKB4wiih7PqlSy+orBIF1djPc5C/LFwTPMBgTKGU2fDjcFvXC40tm97pOGXa4XhLor25TNcuOXfG1efOnD56FG7bhQQYpnrInRHmTlR7tDN+oC3WFesoIWzamNFTy8oUsaqSUTErgPcLCTAMYTvLaMSq9/Qon66XY079Pzb/QQIgEBgEIxBIAAQCCYBAIAEQCCQAAoEEQCCQAAgEEgCBQAIgEEgABAIJgEAgAfodQ7NK6qyr3RriF9zPO8R0dXW1tLS0tbW988478Av8aZpmj26Wruv/8A//UFpaesZvDSFk48aNe/bs0bTsu2RZ1pIlS+bNmzcQ72sYxmOPPRaLxShND0+MsUQicdVVV51zzjlDzYb+8pe/1NXVqWr2Hn+2bdfU1MyaNWuoE7TvgI/6zDPPXHPNNTNmzBg1alSuxfQIDQ0NfGjgk5/8pN9FfvOb3xygN73//vvzvuNXvvIVGFn40AMMWH536YEHHuBDG/3gATZt2rRu3bqXX365XwhZUlIydBZGhcNhv6dCodBAvCM4HDD03MfhDgPlhuYYGolE/J4Cfz7EFVqfCHDixIkvfelL69evB6mDMUPfcfz48Y997GOnT5/OYtq99957ww034P0ZWgTo6Oj4yEc+AvrPkcu4sKbvePDBB3ft2pX1IFj/jTfe6IhVXDQ8VLJAjY2NoPgd6z8bUxNDEFu3br3nnnu8jxQXF3/nO99xrF9RcMn8kPEAhmGA9W/btg1vX78kIcCyQUyC+Dl58qQ3B/XII4+8973vxVs05DzA1772tYGzflBWjLGR8wU44zoEuLW1takHi4qKHnjgAbT+oegB/ud//udb3/pWIUdOmDBhxowZkydPHjNmTFlZGQRzlNJuxVI4HB41atSI+g42bdr0+OOPjx071nEI8PH/93//t6am5my5flAEfk/1aBboLCDAsWPH7rzzzm7OqGkQHH/qU59asGBBRUUFjjHdSqALLrjg9ddf13UdvAF4P/ilvLz8LPoI69at+/jHP547EQaf5aKLLhpWBFi/fv0777wTcMDs2bPBd1922WVo2YVLoLN9mLhEYvhLoFgs9tOf/jTgABA8zz777LRp04aNdQbM4wTMkSGGJwF+//vf79u3z+/ZSCTy4IMPDo71g+g8dOjQ0aNHIWKOx+PganuRh4WXVFVVvetd70qlFw8ePLhlyxbnTyIR8HlBtPzmN7/JjdfHjx8PDjArZblt27b9+/cXmMeEw5xgCUQFMBCYFo1GIY4655xz4Jf+0l2gZo8cOdLW1tbZ2Qn3MFUaEPzCSy+9dOrUqVkf5NVXX21sbMz7LhdffPF5553X0y939+7dDQ0NdXV18LO5uRmu0LZtuBUQHU2ZMmX69OlgZjDagtzwlkv1/l4UCLCVgPOsXr16ECo3urq6/v3f/33OnDn9UomwePFi78l/+MMf9ih1kxeXX3557mX3fR4XIquZM2def/31YBw9vWnOAOEAjBWiOPjgo0eP7sVl/PKXv8w9/zXXXON3/I9+9KPCr/P48ePf//73IXQs8IYsX74cJEl7e3tfLKpQAgAXS0pKAi7onnvuGWjr3759+9KlS/vRk9TU1HjP/+Mf/7jv57z66qtzr3zNmjX9dc3wLdxxxx2nT5/u0a2zLGvDhg3vec97+vjuv/rVr3JP/rGPfczveDDQAsc1CC976iscAGGefvpp0zR7Z1SFepBXXnkF9EbAiLhs2bIBlT27du1atWrV3/72txGuWeFb+M53vnPllVeCgFG6m4N3nm1tbf3gBz94xRVX/PGPfxyCnwjGVvhmr732Wu9MSOHYsWPHe9/73r/7u7/LqqEqEIUSACRswLPFxcUTJkwYuHsE/L755pvhi8SgzcHmzZvBpuGGBMcVzhzz+9///ieffHJofpCdO3e++93vho/Tx/M8//zzQIO33357oAgAMVPAsxCiVVZWDtxtuu+++1588UW0ey9ee+21u+++O/iYRCIB+uSll14amh/hwIEDf//3f3/w4ME+nscZBTZu3Aga7/DhwwNCgOD0P1h/NBrtR7nvPXlnZycQYCC+gKwq7n6ZtozFYnkNcSCu/2c/+1nwwPTd7373hRde6Md3hFiiv04F9+Rf/uVfmpub+17k5xgMnAfk0F133TUgadBg5wICycmo9PGTMMZATT3++ONeQQWfyo/WThn23Llzp02bFg6HCym18N61Cy+80PvI+eefD7oi9X2oqrply5a6urq8L58/f/6sWbNs2866/oULF+YefMkll8AIUnjODq7NMIyWlhZ49wATB3nzi1/8AmLivM9u3bo1oGglVcFeXl4OH7yiogLufLAtwvHTp0/vLwKApcKYHRDGrFy5ctGiRcuXL584cSJ8F21tbXv37oWXQBwIYUNuBb7z58MPPwxa6KMf/Wg/p0F7F6H3Lt+XtSQSPlLA8fD1g6302tV4U4S5+PznP+/3vvfee2/vztkjAG3AiAOWXM2bNy/vxwdmQqAcfKvhtT/+8Y9hcOnjRfYiC/TXv/414MJgLAvInx4/fhyimoCXw+gJQ0M/p0HHjx8/OAQoKSlpbGz0vvV//dd/+R1cVVV16tSpgUu8fu5zn/N7629/+9uDtm4Vhnk/7wG2sm/fvtyXgFn7zZo5w/w111zT01xqPxIg4MbCCAhDXvA7xuNxZyGyn8t68MEH+zkNGlDxN9AIqI4Gx11UVDTs493rrrvu6quv9lPSeUvTQbzljUYcn3/99dc/+uijZ6rqtqOjY8OGDX7PXnvttZ/4xCeCzwC0h0EBVKiffEot1eq3IPgMIkAAtLe3Z6nw4YpLL73U76m8WZQAjQGjxt13351bvDloeP311/1S/jCiB3Ti8KK0tPQDH/hAQJq4nwlwBpf3ByRYjx49+h//8R8jgQPOaoG8cGbEvIAbEmABy5YtA+l4Bj9LwPB/0UUXQdRb4HlAxfmVJHrX1vVPFgjcZS9mGfol0TZ79myQs3kdOnjAb37zm3BDISqaPn06XGTeZTdwm+ArnzhxYnA1x+AA9GtdXd2hQ4eam5tbJeAjByevYLQGnePXeSB3BhTiooaGBr+zXXHFFWf2DmzdutXvqZUrVxY+1M6dO3fmzJm7d+/2i3P6kwDBNetgduCS+p4GhTOAjWYFfDNmzFi1atUf/vAHv1dtkuhWR02YMAFU44c+9KGamhqnanWQ+yyAVlm/fv2vf/1rEAC9mHPwu9Tc8KylpSVg1hzs5gxaP3zwXJeVQo/ayMG4cMEFF+QlQA+yjgUeF1zpcOGFFz733HP90hwFTpJVqAiP/Ou//isM832ZqIJxt17id7/7HXB1zZo1X/3qVwdT1z300ENr166FoKUvo0OBj7e1tcHn9QsfJ02adAYJANcWoE+mTJnSo7NNnTq1j9dTKAHGjBkT8CwMOcUSA3TXFi9efNtttxW4FrlbgBVCFAii4le/+lVZWdmAft+Ok3nwwQc/85nPDJqRBQRFwPmApMLgeICAgaynOb2+m1yhQXDwPMBbb721d+/eAb1xX//61z/84Q/34wmfffbZm266aaC/b7D+nTt3DsIbZXypgVPOZ7aJk7PSaOhkFwolwPnnnx885LzyyisDeqHgu//v//5v3bp1/Zi/e/jhh5955pmBvsXf/e53B3kWBcZRv/7EiUTizPax1CX8nu3s7OzR2fw+S+EkL5QAS5cuDV6PBwPqINw7UEHPP//89ddfv3z58mBVVmBMec899/RjgVcu3njjjccee6y/xs7CMxZ+k1wgPwISRIOAkpKSgJ4XICV6dLajR4/28V4VGgPMnDlzyZIlAdMrTonSIKwJvlzC+fDNzc1HjhzJ20sLHonFYq2trTt27IDAN7ce0xkkXn755YMHD2ZVxRWCAmnzyCOP+MWjiszuf+ITn5g+fXqwaIFn4c4/+uijBV5bVVUVRLp+searr77qN688CAiFQhC57tmzx2+8KPxU8BX3XXj3YFH8Rz/60QACQGR51113/fznPx80hTdB4uKLL+72yA0bNmQ1HvTa8b59+/wIEPBZCsznBExIzZo1C5h5wQUXFGg3hRMA9M+cOXMg9sj7bHAh2iBg3rx5fmvTNm7cCN9IgftL1NbWHjhwYJAkEADGquCa0F/+8pef/vSnlaGHK664IuDCAuqNA3qfgPPp9n3BBQXojTvvvLNA61dkGrdHHzlgjH9d4sx+HX5PgbsGiVvgeR5//HG/GKDwpjU9qFAvLS39+Mc/HnzYQw899KlPfaqpqWmocWDy5MkBntTvqYByMRBO3Q4zEPsGGO6AbnY0f/58v6dADd544429W0HbL7jkkksC8v3B1e9ePPXUU734+L0kgCMGrrvuum7baQAHFi1a9M///M/33XcfCABQ4UOheXrexjUpxez3VMD39Oabb3brBMCVB2Q8BlSKQMy2ePFiv2e3bNkCw/BAJ+4ChpWA3oFPPPHET37yk26H41tvvRXCTj+NumrVqv6PAZzb+rWvfW3t2rXBhx0/fvwXEnB9EydOHD9+/Lhx48rKypxFW8EfLBKJ3H333X3M8GThxRdf/NnPfuYXXwbokAC/AZH37bff/r3vfS+XJKkKi2g0WllZ6bec7d/+7d9gNAGHWYi/7unsFRwPlxdQqb9169bVq1f/4z/+IwxVS5cuLbxNUL/Uj8CF+Y30oBtvuOGGI0eOfOMb38hrLSB74ACwLj+tD5bWrVRJj+w9HZ5t2/6nf/qn9evXD9wIARbjzSaBs77nnnvAcRfeWQ0+lGmajgIBFf7SSy/5ZeLnzp0LbsrPvHbt2rVw4cKAhA8QdcWKFXC1cAZnLRiEtmDTqQM++9nP/vd//3fA1VZXV8M1wBgBNPD7LsCTgGr3E8cf+MAHIJjOfRzuwDXXXFPIRMekSZNAjznVhEBax+yyLgbuKnz11157bW6/W7C2Rx55JO+Zf/rTn+aNvuBGfeQjHwERH3BVy5cvf9/73gfDEwwicAfgGzxx4sTu3bvhVX7xvQOwFvAPSuGE7kV7NvjaBsj6c1eEDWje+gc/+EHAJ21vb+9ptcnKlSu9Zyg8pOs1gAB+1w8irX8bTcO421+NscCag2dXe4cPfehDA9IYy0sYGCRAUQTIg/4FDEgDVMYMYx5ENcFs7OkuFVnVKcCH/u1m1yPA0P7Vr361H0/Yj+WD4Dz7pRWfFxMmTOi2VUwvg+CsaBgCrFdffXXQKssHaG4B4pluW5N/+ctf7gvVQ6HQ97///X7o4dpb3HLLLQ899NAAberaF8BICkHIb37zm/5amQmB78svv1x4ZrmXBEhdPQR/v/3tb9esWTMEb24heP/73w+KttvDIIh/4IEH+vJGl156KcRzZ/CTfvKTn7z//vvPbBGoHz784Q8/++yzfW+5cPXVVz/11FPnnntub0y5j4Agct26dT1lXuExQFNTU2lpab+Piz3adf3hhx+eOXNmgd9E3jP8+te/HiDRGBADeLFt2zaIyPvYYH2AmuMeOHAAPG3vGlYvWbIEriqRSAxsd+hu0dHR8fTTT99+++01NTXwTfdl/4isTjX9GASXlZVdddVVjz32WC8+YEtLy7e+9a1uO7NfdtllAR2277zzzt6MUoF497vfXfinePPNN8EdgYLtXXD885//PPecAV16wPMUfm379u277bbbCuy9BQZ25ZVXgunHYrG+2O2AbHANZDgl0d7e7qxOMgzDtu1Ctn/UNO1973ufN5Ts7Ox0+l/3LoBWVRW8P5h+ZWUluNo+rge3LOutt94CUwY+dHV15XaGA/JffvnlAUGLUx8BXs6pTerd7h7ed5w6dWrulhzdun1496NHj8J3dPr0abikbtclO++1YsWKGTNmZJ3qlVdeqa+vz41z4OaA/APP2aNrA+MBlu7du3f//v3Hjh2D++wsB4dxB75E+AbhDldXV8+ePbuny8fyh5e4xzViJIPiLUAgARAIJAACgQRAIJAACAQSAIFAAiAQSAAEAgmAQCABEAgkAAKBBEAgkAAIBBIAgUACIBBIAAQCCYBAIAEQCCQAAoEEQCCQAAgEEgCBQAIgEEgABAIJgEAgARAIJAACgQRAIJAACAQSAIFAAiAQSAAEAgmAQCABEAgkAAKBBEAgkAAIBBIAgUACIBBIAAQCCYBAIAEQCCQAAlE4/r8AAwDMrcjSRUDmUQAAAABJRU5ErkJggg==)\n",
        "\n",
        "**Campus:**  Polo EAD Estácio Araruama\n",
        "\n",
        "**Curso:**  Desenvolvimento Full Stack\n",
        "\n",
        "**Disciplina:**  Nível 5 Colocando Tudo em Ordem e Guardando\n",
        "\n",
        "**Número da Turma:**  2022.3\n",
        "\n",
        "**Nome Aluno:**  Alexandre Chiaretti Do Nascimento Junior"
      ],
      "metadata": {
        "id": "heK20J9JHtQv"
      }
    },
    {
      "cell_type": "markdown",
      "source": [
        "# Instalar Pacotes"
      ],
      "metadata": {
        "id": "u43jf3Z6uFRu"
      }
    },
    {
      "cell_type": "code",
      "source": [
        "# Biblioteca usada para gerar dados aleatórios\n",
        "!pip install Faker -q\n",
        "# Biblioteca usada para gerar a nuvem de palavras\n",
        "!pip install wordcloud -q\n",
        "# Biblioteca usada para transformar numeros inteiros em numeros por extenso\n",
        "!pip install num2words -q"
      ],
      "metadata": {
        "id": "aniYdwfbuNoG",
        "colab": {
          "base_uri": "https://localhost:8080/"
        },
        "outputId": "9a0c6f52-b2f6-4d7b-f995-b9e7f096cd5d"
      },
      "execution_count": 1,
      "outputs": [
        {
          "output_type": "stream",
          "name": "stdout",
          "text": [
            "\u001b[K     |████████████████████████████████| 1.6 MB 5.2 MB/s \n",
            "\u001b[K     |████████████████████████████████| 125 kB 5.5 MB/s \n",
            "\u001b[?25h  Building wheel for docopt (setup.py) ... \u001b[?25l\u001b[?25hdone\n"
          ]
        }
      ]
    },
    {
      "cell_type": "markdown",
      "source": [
        "#Gerando Dados "
      ],
      "metadata": {
        "id": "fanAFZ5AI1rh"
      }
    },
    {
      "cell_type": "code",
      "source": [
        "from faker import Faker\n",
        "import random\n",
        "regiao = \"pt-BR\"\n",
        "fake = Faker(regiao)\n",
        "\n",
        "quantidade = 10\n",
        "notas = 0\n",
        "i = 0\n",
        "\n",
        "nome = []\n",
        "\n",
        "def gerar_dados():\n",
        "  for notas in range(quantidade):\n",
        "      with open(\"dados.txt\",\"a\") as arquivo:\n",
        "        dados = arquivo.write(f\"{fake.name()}\\n\")\n",
        "        dados = arquivo.write(f\"{fake.random.randint(1,10)}\\n\")\n",
        "\n",
        "#print(nome)"
      ],
      "metadata": {
        "id": "8l_an6JLI5_-"
      },
      "execution_count": 2,
      "outputs": []
    },
    {
      "cell_type": "markdown",
      "source": [
        "#Gravando Dados no Arquivo .TXT"
      ],
      "metadata": {
        "id": "5IgCtUCEJGpA"
      }
    },
    {
      "cell_type": "code",
      "source": [
        "#Gravar dados no Arquivo .TXT\n",
        "gerar_dados()"
      ],
      "metadata": {
        "id": "D0fLKzM3JNdL"
      },
      "execution_count": 3,
      "outputs": []
    },
    {
      "cell_type": "markdown",
      "source": [
        "#Abrindo o Arquivo .txt"
      ],
      "metadata": {
        "id": "Rc8BfAVwwvgB"
      }
    },
    {
      "cell_type": "code",
      "source": [
        "# Abrindo arquivo \n",
        "my_file = open('dados.txt')"
      ],
      "metadata": {
        "id": "qkRtuOnBShOp"
      },
      "execution_count": 4,
      "outputs": []
    },
    {
      "cell_type": "markdown",
      "source": [
        "#Lendo o arquivo"
      ],
      "metadata": {
        "id": "G5wLCy4nx6q-"
      }
    },
    {
      "cell_type": "code",
      "source": [
        "# Criando uma lista\n",
        "lista = my_file.read().splitlines()\n",
        "\n",
        "# Visualizando a Lista\n",
        "print(lista)\n",
        "\n",
        "# Fechando o Arquivo\n",
        "my_file.close()\n"
      ],
      "metadata": {
        "colab": {
          "base_uri": "https://localhost:8080/"
        },
        "id": "a3UcFsY5x_s4",
        "outputId": "dc1e0676-7ccd-4d30-824c-40a79eccf29c"
      },
      "execution_count": 5,
      "outputs": [
        {
          "output_type": "stream",
          "name": "stdout",
          "text": [
            "['Sr. Bernardo Ribeiro', '10', 'Sofia Santos', '9', 'Heloísa Ribeiro', '5', 'Enzo Vieira', '2', 'Sr. Marcos Vinicius da Mota', '8', 'Pedro Miguel Moura', '5', 'Fernando Moraes', '4', 'Pietro Rezende', '1', 'Maria Viana', '7', 'Nathan Viana', '7']\n"
          ]
        }
      ]
    },
    {
      "cell_type": "markdown",
      "source": [
        "# Recuperando os números inteiros da lista"
      ],
      "metadata": {
        "id": "_mYIcT-PyJXy"
      }
    },
    {
      "cell_type": "code",
      "source": [
        "# Recuperando os números inteiros da lista\n",
        "listaInt = [int(item) for item in lista if item.isdigit()]\n",
        "\n",
        "# Visualizando a Lista\n",
        "print (listaInt)"
      ],
      "metadata": {
        "colab": {
          "base_uri": "https://localhost:8080/"
        },
        "id": "4mh0S6hNyJoe",
        "outputId": "c76993a3-8cc8-4186-df9f-8b46d5837312"
      },
      "execution_count": 6,
      "outputs": [
        {
          "output_type": "stream",
          "name": "stdout",
          "text": [
            "[10, 9, 5, 2, 8, 5, 4, 1, 7, 7]\n"
          ]
        }
      ]
    },
    {
      "cell_type": "markdown",
      "source": [
        "#Manipular os dados para visualizá-los em um histograma"
      ],
      "metadata": {
        "id": "QQy3H2IQ0UHs"
      }
    },
    {
      "cell_type": "code",
      "source": [
        "import matplotlib.pyplot as plt\n",
        "\n",
        "num_bins=10; plt.hist(listaInt,num_bins,density=True,facecolor='blue', alpha=0.75)\n",
        "\n",
        "\n",
        "\n",
        "plt.xlabel('Pontuações')\n",
        "plt.ylabel('Probabilidade')\n",
        "plt.title('Histograma das pontuações')\n",
        "plt.grid(True)\n",
        "plt.show()"
      ],
      "metadata": {
        "colab": {
          "base_uri": "https://localhost:8080/",
          "height": 295
        },
        "id": "Y9L-o3-m0ZHr",
        "outputId": "edc434f5-8795-43f0-c6ec-2c0636036dde"
      },
      "execution_count": 7,
      "outputs": [
        {
          "output_type": "display_data",
          "data": {
            "text/plain": [
              "<Figure size 432x288 with 1 Axes>"
            ],
            "image/png": "[encoded data removed]"
          },
          "metadata": {
            "needs_background": "light"
          }
        }
      ]
    },
    {
      "cell_type": "markdown",
      "source": [
        "#Manipular os dados para trabalhar *com* uma nuvem de palavras "
      ],
      "metadata": {
        "id": "Id0E3GBB1aB-"
      }
    },
    {
      "cell_type": "code",
      "source": [
        "from num2words import num2words\n",
        "listaNum = []\n",
        "\n",
        "# Manipulando número inteiro para número por extenso \n",
        "for numero in listaInt:\n",
        "  listaNum.append(num2words(numero, lang='pt-br'))\n",
        "\n",
        "# Visualizando a Lista\n",
        "print(listaNum)\n",
        "\n",
        "# Transformando as Palavras em uma unica String\n",
        "all_listaNum = ','.join(s for s in listaNum)\n",
        "print(all_listaNum)"
      ],
      "metadata": {
        "colab": {
          "base_uri": "https://localhost:8080/"
        },
        "id": "m1CVy1lH1r3v",
        "outputId": "44c30b09-7fae-4c0b-f3bb-f19c8ad39366"
      },
      "execution_count": 8,
      "outputs": [
        {
          "output_type": "stream",
          "name": "stdout",
          "text": [
            "['dez', 'nove', 'cinco', 'dois', 'oito', 'cinco', 'quatro', 'um', 'sete', 'sete']\n",
            "dez,nove,cinco,dois,oito,cinco,quatro,um,sete,sete\n"
          ]
        }
      ]
    },
    {
      "cell_type": "markdown",
      "source": [
        "#Visualizando dados em uma nuvem de palavras"
      ],
      "metadata": {
        "id": "MBfRS-Nw52nM"
      }
    },
    {
      "cell_type": "code",
      "source": [
        "from wordcloud import WordCloud\n",
        "\n",
        "nuvem_palavras = WordCloud(background_color='black', width=800,height=400).generate(all_listaNum)\n",
        "\n",
        "plt.imshow(nuvem_palavras, interpolation='bilinear')\n",
        "plt.axis(\"off\")\n",
        "\n",
        "nuvem_palavras.to_file(\"Nuvem de palavras.png\")"
      ],
      "metadata": {
        "colab": {
          "base_uri": "https://localhost:8080/",
          "height": 215
        },
        "id": "eKwGEMh76AYn",
        "outputId": "cb56496a-e0f6-4a1e-ecbd-db404bfa6fd0"
      },
      "execution_count": 9,
      "outputs": [
        {
          "output_type": "execute_result",
          "data": {
            "text/plain": [
              "<wordcloud.wordcloud.WordCloud at 0x7f8a94cbe850>"
            ]
          },
          "metadata": {},
          "execution_count": 9
        },
        {
          "output_type": "display_data",
          "data": {
            "text/plain": [
              "<Figure size 432x288 with 1 Axes>"
            ],
            "image/png": "[encoded data removed]"
          },
          "metadata": {
            "needs_background": "light"
          }
        }
      ]
    },
    {
      "cell_type": "markdown",
      "source": [
        "#Análise e Conclusão\n",
        "\n",
        "Qual a importância de manipular arquivos de texto?\n",
        "\n",
        "R: Manipular os arquivos de texto nos permite recuperar os dados, ou pegalos, para que possam ser usados de diversas formas , como backups, planilhas, etc.\n",
        "\n",
        "Qual a importância de visualizar os dados em um histograma?\n",
        "\n",
        "R: O histograma nos permite analisar os dados selecionados. Ferramenta fácil de elaborar, simples de usar e rápida para absorver as informações, seja em dados manuais ou em planilhas digitais.\n",
        "\n",
        "O que significa a visualização por nuvem de palavras?\n",
        "\n",
        "R: Nuvens de palavras são utilizadas como ferramenta para visualização de dados de linguagem natural. Quanto maior a palavra, mais citada ela foi no texto de entrada, ou de maior importância. Ela nos permite analisar textos, visualizar e comparar os temas que estão em evidência."
      ],
      "metadata": {
        "id": "6GAL0QUQgH3N"
      }
    }
  ]
}